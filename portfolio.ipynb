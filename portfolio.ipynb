{
 "cells": [
  {
   "cell_type": "code",
   "execution_count": null,
   "metadata": {},
   "outputs": [
    {
     "name": "stdout",
     "output_type": "stream",
     "text": [
      "Defaulting to user installation because normal site-packages is not writeable\n",
      "Requirement already satisfied: yfinance in /private/var/mobile/Containers/Data/Application/D9A0620D-AEF3-4B66-8A72-AAE2B2FFA77B/Library/lib/python3.9/site-packages (0.1.66)\n",
      "Requirement already satisfied: numpy>=1.15 in /private/var/containers/Bundle/Application/7AE71669-FF4A-4608-8EB4-986EFAF2483B/Carnets.app/Library/lib/python3.9/site-packages/numpy-1.21.0.dev0+945.g8ac138086-py3.9-macosx-11.5-x86_64.egg (from yfinance) (1.21.0.dev0+945.g8ac138086)\n",
      "Requirement already satisfied: requests>=2.20 in /private/var/containers/Bundle/Application/7AE71669-FF4A-4608-8EB4-986EFAF2483B/Carnets.app/Library/lib/python3.9/site-packages (from yfinance) (2.26.0)\n",
      "Requirement already satisfied: lxml>=4.5.1 in /private/var/containers/Bundle/Application/7AE71669-FF4A-4608-8EB4-986EFAF2483B/Carnets.app/Library/lib/python3.9/site-packages (from yfinance) (4.6.3)\n",
      "Requirement already satisfied: pandas>=0.24 in /private/var/containers/Bundle/Application/7AE71669-FF4A-4608-8EB4-986EFAF2483B/Carnets.app/Library/lib/python3.9/site-packages/pandas-1.3.4-py3.9-macosx-11.5-x86_64.egg (from yfinance) (1.3.4)\n",
      "Requirement already satisfied: multitasking>=0.0.7 in /private/var/mobile/Containers/Data/Application/D9A0620D-AEF3-4B66-8A72-AAE2B2FFA77B/Library/lib/python3.9/site-packages (from yfinance) (0.0.10)\n",
      "Requirement already satisfied: python-dateutil>=2.7.3 in /private/var/containers/Bundle/Application/7AE71669-FF4A-4608-8EB4-986EFAF2483B/Carnets.app/Library/lib/python3.9/site-packages (from pandas>=0.24->yfinance) (2.8.2)\n",
      "Requirement already satisfied: pytz>=2017.3 in /private/var/containers/Bundle/Application/7AE71669-FF4A-4608-8EB4-986EFAF2483B/Carnets.app/Library/lib/python3.9/site-packages (from pandas>=0.24->yfinance) (2021.3)\n",
      "Requirement already satisfied: charset-normalizer~=2.0.0 in /private/var/containers/Bundle/Application/7AE71669-FF4A-4608-8EB4-986EFAF2483B/Carnets.app/Library/lib/python3.9/site-packages (from requests>=2.20->yfinance) (2.0.7)\n",
      "Requirement already satisfied: idna<4,>=2.5 in /private/var/containers/Bundle/Application/7AE71669-FF4A-4608-8EB4-986EFAF2483B/Carnets.app/Library/lib/python3.9/site-packages (from requests>=2.20->yfinance) (3.3)\n",
      "Requirement already satisfied: urllib3<1.27,>=1.21.1 in /private/var/containers/Bundle/Application/7AE71669-FF4A-4608-8EB4-986EFAF2483B/Carnets.app/Library/lib/python3.9/site-packages (from requests>=2.20->yfinance) (1.26.7)\n",
      "Requirement already satisfied: certifi>=2017.4.17 in /private/var/containers/Bundle/Application/7AE71669-FF4A-4608-8EB4-986EFAF2483B/Carnets.app/Library/lib/python3.9/site-packages (from requests>=2.20->yfinance) (2021.10.8)\n",
      "Requirement already satisfied: six>=1.5 in /private/var/containers/Bundle/Application/7AE71669-FF4A-4608-8EB4-986EFAF2483B/Carnets.app/Library/lib/python3.9/site-packages (from python-dateutil>=2.7.3->pandas>=0.24->yfinance) (1.16.0)\n"
     ]
    }
   ],
   "source": [
    "!pip install yfinance\n",
    "!pip install pandas_datareader\n",
    "!pip install plotly\n"
   ]
  },
  {
   "cell_type": "code",
   "execution_count": 2,
   "metadata": {},
   "outputs": [
    {
     "ename": "ModuleNotFoundError",
     "evalue": "No module named 'plotly'",
     "output_type": "error",
     "traceback": [
      "\u001b[0;31m---------------------------------------------------------------------------\u001b[0m",
      "\u001b[0;31mModuleNotFoundError\u001b[0m                       Traceback (most recent call last)",
      "\u001b[0;32m~/tmp/ipykernel_1305/39088911.py\u001b[0m in \u001b[0;36m<module>\u001b[0;34m\u001b[0m\n\u001b[1;32m      5\u001b[0m \u001b[0myf\u001b[0m\u001b[0;34m.\u001b[0m\u001b[0mpdr_override\u001b[0m\u001b[0;34m(\u001b[0m\u001b[0;34m)\u001b[0m \u001b[0;31m# <== that's all it takes :-)\u001b[0m\u001b[0;34m\u001b[0m\u001b[0;34m\u001b[0m\u001b[0m\n\u001b[1;32m      6\u001b[0m \u001b[0;34m\u001b[0m\u001b[0m\n\u001b[0;32m----> 7\u001b[0;31m \u001b[0;32mfrom\u001b[0m \u001b[0mplotly\u001b[0m \u001b[0;32mimport\u001b[0m \u001b[0m__version__\u001b[0m\u001b[0;34m\u001b[0m\u001b[0;34m\u001b[0m\u001b[0m\n\u001b[0m\u001b[1;32m      8\u001b[0m \u001b[0;32mfrom\u001b[0m \u001b[0mplotly\u001b[0m\u001b[0;34m.\u001b[0m\u001b[0moffline\u001b[0m \u001b[0;32mimport\u001b[0m \u001b[0mdownload_plotlyjs\u001b[0m\u001b[0;34m,\u001b[0m \u001b[0minit_notebook_mode\u001b[0m\u001b[0;34m,\u001b[0m \u001b[0mplot\u001b[0m\u001b[0;34m,\u001b[0m \u001b[0miplot\u001b[0m\u001b[0;34m\u001b[0m\u001b[0;34m\u001b[0m\u001b[0m\n\u001b[1;32m      9\u001b[0m \u001b[0;32mimport\u001b[0m \u001b[0mplotly\u001b[0m\u001b[0;34m.\u001b[0m\u001b[0mgraph_objs\u001b[0m \u001b[0;32mas\u001b[0m \u001b[0mgo\u001b[0m\u001b[0;34m\u001b[0m\u001b[0;34m\u001b[0m\u001b[0m\n",
      "\u001b[0;31mModuleNotFoundError\u001b[0m: No module named 'plotly'"
     ]
    }
   ],
   "source": [
    "import pandas as pd\n",
    "from pandas_datareader import data as pdr\n",
    "\n",
    "import yfinance as yf\n",
    "yf.pdr_override() # <== that's all it takes :-)\n",
    "\n",
    "from plotly import __version__\n",
    "from plotly.offline import download_plotlyjs, init_notebook_mode, plot, iplot\n",
    "import plotly.graph_objs as go\n",
    "init_notebook_mode(connected=True)\n",
    "\n",
    "\n",
    "start_imp = \"2006-06-20\"\n",
    "\n",
    "end_imp = \"2021-11-10\"\n",
    "\n",
    "\n"
   ]
  },
  {
   "cell_type": "markdown",
   "metadata": {},
   "source": [
    "# FCA venduta "
   ]
  },
  {
   "cell_type": "code",
   "execution_count": null,
   "metadata": {},
   "outputs": [],
   "source": [
    "FCA = pdr.get_data_yahoo(\"FCA.MI\", start=\"2017-01-24\", end=\"2019-02-05\")\n",
    "FCA['num'] = 27\n",
    "FCA['tot_worth'] = FCA['num'] * FCA['Adj Close']"
   ]
  },
  {
   "cell_type": "code",
   "execution_count": null,
   "metadata": {},
   "outputs": [],
   "source": [
    "FCA_2 = pdr.get_data_yahoo(\"FCA.MI\", start=\"2018-01-23\", end=\"2019-02-05\")\n",
    "FCA_2['num'] = 18\n",
    "FCA_2['tot_worth'] = FCA_2['num'] * FCA_2['Adj Close']\n",
    "\n",
    "FCA_3 = pdr.get_data_yahoo(\"FCA.MI\",  start=\"2018-08-21\", end=\"2019-02-05\")\n",
    "FCA_3['num'] = 25\n",
    "FCA_3['tot_worth'] = FCA_3['num'] * FCA_3['Adj Close']\n",
    "\n",
    " # unisco i due parziali attenzione perche le colonne sommate darebbero un nan \n",
    "FCA_parz = pd.concat([FCA['tot_worth'],FCA_2['tot_worth'],FCA_3['tot_worth']], ignore_index=True, axis=1) \n",
    "FCA_tot = FCA_parz.fillna(0)[0]+FCA_parz.fillna(0)[1]+FCA_parz.fillna(0)[2] #colonna totale di FCA\n",
    "\n",
    "\n",
    "trace_1 = go.Scatter(\n",
    "    x=FCA_tot.index,\n",
    "    y=FCA_tot,\n",
    "    name = \"FCA\",\n",
    "    line = dict(color = 'peru'),\n",
    "    opacity = 0.8)\n",
    "\n",
    "\n",
    "data = [trace_1]\n",
    "fig = dict(data=data)\n",
    "iplot(fig)"
   ]
  },
  {
   "cell_type": "markdown",
   "metadata": {},
   "source": [
    "# BRK-B"
   ]
  },
  {
   "cell_type": "code",
   "execution_count": null,
   "metadata": {},
   "outputs": [],
   "source": [
    "BRKB = pdr.get_data_yahoo(\"BRK-B\", start=\"2018-07-16\", end=end_imp)\n",
    "eur = pdr.get_data_yahoo('EURUSD=X',start=\"2018-07-16\", end=end_imp)['Adj Close']\n",
    "BRKB['num'] = 9\n",
    "BRKB['tot_worth'] = BRKB['num'] * BRKB['Adj Close'] / eur\n",
    "\n",
    "trace_2 = go.Scatter(\n",
    "    x=BRKB.index,\n",
    "    y=BRKB['tot_worth'],\n",
    "    name = \"BRK-B\",\n",
    "    line = dict(color = 'black'),\n",
    "    opacity = 0.8)\n",
    "\n",
    "\n",
    "data = [trace_2]\n",
    "fig = dict(data=data)\n",
    "iplot(fig)"
   ]
  },
  {
   "cell_type": "code",
   "execution_count": null,
   "metadata": {},
   "outputs": [],
   "source": []
  },
  {
   "cell_type": "markdown",
   "metadata": {},
   "source": [
    "# FB.MI venduta"
   ]
  },
  {
   "cell_type": "code",
   "execution_count": null,
   "metadata": {},
   "outputs": [],
   "source": [
    "FB = pdr.get_data_yahoo(\"FB.MI\", start=\"2018-07-16\", end=\"2019-02-05\")\n",
    "FB['num'] = 6\n",
    "FB['tot_worth'] = FB['num'] * FB['Adj Close']\n",
    "\n",
    "trace_3 = go.Scatter(\n",
    "    x=FB.index,\n",
    "    y=FB['tot_worth'],\n",
    "    name = \"FB\",\n",
    "    line = dict(color = 'purple'),\n",
    "    opacity = 0.8)\n",
    "\n",
    "\n",
    "data = [trace_3]\n",
    "fig = dict(data=data)\n",
    "iplot(fig)"
   ]
  },
  {
   "cell_type": "markdown",
   "metadata": {},
   "source": [
    "# BSS.MI"
   ]
  },
  {
   "cell_type": "code",
   "execution_count": null,
   "metadata": {},
   "outputs": [],
   "source": [
    "\"\"\"BSS = pdr.get_data_yahoo(\"BSS.MI\", start=\"2017-09-26\", end=\"2018-08-21\")\n",
    "BSS['num'] = 12\n",
    "BSS['tot_worth'] = BSS['num'] * BSS['Adj Close']\n",
    "\n",
    "trace_4 = go.Scatter(\n",
    "    x=BSS.index,\n",
    "    y=BSS['tot_worth'],\n",
    "    name = \"BSS\",\n",
    "    line = dict(color = 'red'),\n",
    "    opacity = 0.8)\n",
    "\n",
    "\n",
    "data = [trace_4]\n",
    "fig = dict(data=data)\n",
    "iplot(fig)\"\"\""
   ]
  },
  {
   "cell_type": "markdown",
   "metadata": {},
   "source": [
    "# NVDA venduta"
   ]
  },
  {
   "cell_type": "code",
   "execution_count": null,
   "metadata": {},
   "outputs": [],
   "source": [
    "NVDA = pdr.get_data_yahoo(\"NVDA\", start=\"2017-08-12\", end=\"2020-01-01\")\n",
    "eur = pdr.get_data_yahoo('EURUSD=X',start=\"2017-08-12\", end=end_imp)['Adj Close']\n",
    "NVDA['num'] = 5\n",
    "NVDA['tot_worth'] = NVDA['num'] * NVDA['Adj Close']/eur\n",
    "\n",
    "trace_5 = go.Scatter(\n",
    "    x=NVDA.index,\n",
    "    y=NVDA['tot_worth'],\n",
    "    name = \"NVDA\",\n",
    "    line = dict(color = 'orange'),\n",
    "    opacity = 0.8)\n",
    "\n",
    "\n",
    "data = [trace_5]\n",
    "fig = dict(data=data)\n",
    "iplot(fig)"
   ]
  },
  {
   "cell_type": "markdown",
   "metadata": {},
   "source": [
    "# IMA Venduta"
   ]
  },
  {
   "cell_type": "code",
   "execution_count": null,
   "metadata": {},
   "outputs": [],
   "source": [
    "IMA = pdr.get_data_yahoo(\"IMA.MI\", start=\"2017-02-14\", end=\"2020-08-31\")\n",
    "IMA['num'] = 7\n",
    "IMA['tot_worth'] = IMA['num'] * IMA['Adj Close']\n",
    "\n",
    "trace_6 = go.Scatter(\n",
    "    x=IMA.index,\n",
    "    y=IMA['tot_worth'],\n",
    "    name = \"IMA\",\n",
    "    line = dict(color = 'green'),\n",
    "    opacity = 0.8)\n",
    "\n",
    "\n",
    "data = [trace_6]\n",
    "fig = dict(data=data)\n",
    "iplot(fig)"
   ]
  },
  {
   "cell_type": "markdown",
   "metadata": {},
   "source": [
    "# V"
   ]
  },
  {
   "cell_type": "code",
   "execution_count": null,
   "metadata": {},
   "outputs": [],
   "source": [
    "V = pdr.get_data_yahoo(\"V\", start=\"2015-09-17\", end=end_imp)\n",
    "eur = pdr.get_data_yahoo('EURUSD=X',start=\"2015-09-17\", end=end_imp)['Adj Close']\n",
    "V['num'] = 16\n",
    "V['tot_worth'] = V['num'] * V['Adj Close'] / eur\n",
    "\n",
    "trace_7 = go.Scatter(\n",
    "    x=V.index,\n",
    "    y=V['tot_worth'],\n",
    "    name = \"V\",\n",
    "    line = dict(color = 'blue'),\n",
    "    opacity = 0.8)\n",
    "\n",
    "\n",
    "data = [trace_7]\n",
    "fig = dict(data=data)\n",
    "iplot(fig)"
   ]
  },
  {
   "cell_type": "markdown",
   "metadata": {},
   "source": [
    "# BMPS"
   ]
  },
  {
   "cell_type": "code",
   "execution_count": null,
   "metadata": {},
   "outputs": [],
   "source": [
    "BMPS = pdr.get_data_yahoo(\"BMPS.MI\", start=\"2016-06-19\", end=end_imp)\n",
    "BMPS['num'] = 5\n",
    "BMPS['tot_worth'] = BMPS['num'] * BMPS['Adj Close']\n",
    "\n",
    "trace_8 = go.Scatter(\n",
    "    x=BMPS.index,\n",
    "    y=BMPS['tot_worth'],\n",
    "    name = \"BMPS\",\n",
    "    line = dict(color = 'grey'),\n",
    "    opacity = 0.8)\n",
    "\n",
    "\n",
    "data = [trace_8]\n",
    "fig = dict(data=data)\n",
    "iplot(fig)"
   ]
  },
  {
   "cell_type": "markdown",
   "metadata": {},
   "source": [
    "# BLT - venduta 17.10.2019"
   ]
  },
  {
   "cell_type": "code",
   "execution_count": null,
   "metadata": {},
   "outputs": [],
   "source": [
    "BLT_1 = pdr.get_data_yahoo(\"BHP.L\", start=\"2016-02-16\", end=\"2019-10-17\")\n",
    "eur = pdr.get_data_yahoo('EURUSD=X',start=\"2016-02-16\", end=\"2019-10-17\")['Adj Close']\n",
    "gbp = pdr.get_data_yahoo('GBPUSD=X',start=\"2016-02-16\", end=\"2019-10-17\")['Adj Close']\n",
    "BLT_1['num'] = 2.75\n",
    "BLT_1['tot_worth'] = BLT_1['num'] * BLT_1['Adj Close']  *gbp / eur"
   ]
  },
  {
   "cell_type": "code",
   "execution_count": null,
   "metadata": {},
   "outputs": [],
   "source": []
  },
  {
   "cell_type": "code",
   "execution_count": null,
   "metadata": {},
   "outputs": [],
   "source": [
    "BLT_2 = pdr.get_data_yahoo(\"BHP.L\", start=\"2016-04-15\", end=\"2019-10-17\")\n",
    "eur = pdr.get_data_yahoo('EURUSD=X',start=\"2016-04-15\", end=\"2019-10-17\")['Adj Close']\n",
    "gbp = pdr.get_data_yahoo('GBPUSD=X',start=\"2016-04-15\", end=\"2019-10-17\")['Adj Close']\n",
    "BLT_2['num'] = 0.04\n",
    "BLT_2['tot_worth'] = BLT_2['num'] * BLT_2['Adj Close'] *gbp / eur\n",
    "\n",
    "\n",
    "\n",
    "BLT_3 = pdr.get_data_yahoo(\"BLT.L\", start=\"2018-08-17\", end=\"2019-10-17\")\n",
    "eur = pdr.get_data_yahoo('EURUSD=X',start=\"2018-08-17\", end=\"2019-10-17\")['Adj Close']\n",
    "gbp = pdr.get_data_yahoo('GBPUSD=X',start=\"2018-08-17\", end=\"2019-10-17\")['Adj Close']\n",
    "BLT_3['num'] = 0.66\n",
    "BLT_3['tot_worth'] = BLT_3['num'] * BLT_3['Adj Close'] *gbp / eur\n",
    "\n",
    "\n",
    "\n",
    "\n",
    " # unisco i due parziali attenzione perche le colonne sommate darebbero un nan \n",
    "BLT_parz = pd.concat([BLT_1['tot_worth'],BLT_2['tot_worth'],BLT_3['tot_worth']], ignore_index=True, axis=1) \n",
    "BLT = BLT_parz.fillna(0)[0]+BLT_parz.fillna(0)[1]+BLT_parz.fillna(0)[2]   #colonna totale \n",
    "\n",
    "BLT_ = pd.DataFrame()\n",
    "BLT_['TOT'] = BLT.resample('W').max()\n",
    "\n",
    "trace_9 = go.Scatter(\n",
    "    x=BLT_.index,\n",
    "    y=BLT_['TOT'],\n",
    "    name = \"BLT\",\n",
    "    line = dict(color = '#8090c7'),\n",
    "    opacity = 0.8)\n",
    "\n",
    "\n",
    "data = [trace_9]\n",
    "fig = dict(data=data)\n",
    "iplot(fig)"
   ]
  },
  {
   "cell_type": "code",
   "execution_count": null,
   "metadata": {},
   "outputs": [],
   "source": []
  },
  {
   "cell_type": "markdown",
   "metadata": {},
   "source": [
    "# TRN"
   ]
  },
  {
   "cell_type": "code",
   "execution_count": null,
   "metadata": {},
   "outputs": [],
   "source": [
    "TRN_1 = pdr.get_data_yahoo(\"TRN.MI\", start=\"2006-06-20\", end=end_imp)\n",
    "TRN_1['num'] = 1054\n",
    "TRN_1['tot_worth'] = TRN_1['num'] * TRN_1['Adj Close']"
   ]
  },
  {
   "cell_type": "code",
   "execution_count": null,
   "metadata": {},
   "outputs": [],
   "source": [
    "TRN_2 = pdr.get_data_yahoo(\"TRN.MI\", start=\"2015-08-19\", end=end_imp)\n",
    "TRN_2['num'] = 32\n",
    "TRN_2['tot_worth'] = TRN_2['num'] * TRN_2['Adj Close']"
   ]
  },
  {
   "cell_type": "code",
   "execution_count": null,
   "metadata": {},
   "outputs": [],
   "source": [
    "TRN_3 = pdr.get_data_yahoo(\"TRN.MI\", start=\"2016-06-27\", end=end_imp)\n",
    "TRN_3['num'] = 25\n",
    "TRN_3['tot_worth'] = TRN_3['num'] * TRN_3['Adj Close']"
   ]
  },
  {
   "cell_type": "code",
   "execution_count": null,
   "metadata": {},
   "outputs": [],
   "source": [
    "TRN_4 = pdr.get_data_yahoo(\"TRN.MI\", start=\"2018-07-10\", end=end_imp)\n",
    "TRN_4['num'] = 106\n",
    "TRN_4['tot_worth'] = TRN_4['num'] * TRN_4['Adj Close']"
   ]
  },
  {
   "cell_type": "code",
   "execution_count": null,
   "metadata": {},
   "outputs": [],
   "source": [
    "TRN_5 = pdr.get_data_yahoo(\"TRN.MI\", start=\"2020-08-11\", end=end_imp)\n",
    "TRN_5['num'] = 156\n",
    "TRN_5['tot_worth'] = TRN_5['num'] * TRN_5['Adj Close']"
   ]
  },
  {
   "cell_type": "code",
   "execution_count": null,
   "metadata": {},
   "outputs": [],
   "source": []
  },
  {
   "cell_type": "code",
   "execution_count": null,
   "metadata": {},
   "outputs": [],
   "source": [
    "# unisco i due parziali attenzione perche le colonne sommate darebbero un nan \n",
    "TRN_parz = pd.concat([TRN_1['tot_worth'],TRN_2['tot_worth'],TRN_3['tot_worth'],TRN_4['tot_worth'],TRN_5['tot_worth']], ignore_index=True, axis=1) \n",
    "TRN = TRN_parz.fillna(0)[0]+TRN_parz.fillna(0)[1]+TRN_parz.fillna(0)[2] +TRN_parz.fillna(0)[3]+TRN_parz.fillna(0)[4]#colonna totale di FCA\n",
    "\n",
    "trace_10 = go.Scatter(\n",
    "    x=TRN.index,\n",
    "    y=TRN,\n",
    "    name = \"TRN\",\n",
    "    line = dict(color = 'pink'),\n",
    "    opacity = 0.8)\n",
    "\n",
    "\n",
    "data = [trace_10]\n",
    "fig = dict(data=data)\n",
    "iplot(fig)"
   ]
  },
  {
   "cell_type": "markdown",
   "metadata": {},
   "source": [
    "# BRE"
   ]
  },
  {
   "cell_type": "code",
   "execution_count": null,
   "metadata": {},
   "outputs": [],
   "source": [
    "BRE_1 = pdr.get_data_yahoo(\"BRE.MI\", start=\"2011-06-28\", end=end_imp)\n",
    "BRE_1['num'] = 220\n",
    "BRE_1['tot_worth'] = BRE_1['num'] * BRE_1['Adj Close']"
   ]
  },
  {
   "cell_type": "code",
   "execution_count": null,
   "metadata": {},
   "outputs": [],
   "source": [
    "BRE_2 = pdr.get_data_yahoo(\"BRE.MI\", start=\"2018-07-10\", end=end_imp)\n",
    "BRE_2['num'] = 25\n",
    "BRE_2['tot_worth'] = BRE_2['num'] * BRE_2['Adj Close']\n",
    "\n",
    " # unisco i due parziali attenzione perche le colonne sommate darebbero un nan \n",
    "BRE_parz = pd.concat([BRE_1['tot_worth'],BRE_2['tot_worth']], ignore_index=True, axis=1) \n",
    "BRE = BRE_parz.fillna(0)[0]+BRE_parz.fillna(0)[1] #colonna totale di FCA\n",
    "\n",
    "trace_11 = go.Scatter(\n",
    "    x=BRE.index,\n",
    "    y=BRE,\n",
    "    name = \"BRE\",\n",
    "    line = dict(color = 'brown'),\n",
    "    opacity = 0.8)\n",
    "\n",
    "\n",
    "data = [trace_11]\n",
    "fig = dict(data=data)\n",
    "iplot(fig)"
   ]
  },
  {
   "cell_type": "markdown",
   "metadata": {},
   "source": [
    "# PYPL"
   ]
  },
  {
   "cell_type": "code",
   "execution_count": null,
   "metadata": {},
   "outputs": [],
   "source": []
  },
  {
   "cell_type": "code",
   "execution_count": null,
   "metadata": {},
   "outputs": [],
   "source": []
  },
  {
   "cell_type": "code",
   "execution_count": null,
   "metadata": {},
   "outputs": [],
   "source": []
  },
  {
   "cell_type": "code",
   "execution_count": null,
   "metadata": {},
   "outputs": [],
   "source": [
    "PYPL = pdr.get_data_yahoo(\"PYPL\", start=\"2015-07-29\", end=end_imp)\n",
    "eur = pdr.get_data_yahoo('EURUSD=X',start=\"2015-07-29\", end=end_imp)['Adj Close']\n",
    "\n",
    "PYPL['num'] = 42\n",
    "PYPL['tot_worth'] = PYPL['num'] * PYPL['Adj Close'] / eur\n",
    "\n",
    "PYPL_ = pd.DataFrame()\n",
    "PYPL_['TOT'] = PYPL['tot_worth'].resample('W').max()\n",
    "\n",
    "\n",
    "trace_12 = go.Scatter(\n",
    "    x=PYPL_.index,\n",
    "    y=PYPL_['TOT'],\n",
    "    name = \"PYPL\",\n",
    "    line = dict(color = 'yellowgreen'),\n",
    "    opacity = 0.8)\n",
    "\n",
    "\n",
    "data = [trace_12]\n",
    "fig = dict(data=data)\n",
    "iplot(fig)"
   ]
  },
  {
   "cell_type": "code",
   "execution_count": null,
   "metadata": {},
   "outputs": [],
   "source": []
  },
  {
   "cell_type": "markdown",
   "metadata": {},
   "source": [
    "# CELG Opa ricevuto soldi e Bristol Mayers"
   ]
  },
  {
   "cell_type": "code",
   "execution_count": null,
   "metadata": {},
   "outputs": [],
   "source": [
    "CELG = pdr.get_data_yahoo(\"CELG\", start=\"2013-12-11\", end=\"2019-12-30\")\n",
    "eur = pdr.get_data_yahoo('EURUSD=X',start=\"2013-12-11\", end=\"2019-12-30\")['Adj Close']\n",
    "\n",
    "CELG['num'] = 16\n",
    "CELG['tot_worth'] = CELG['num'] * CELG['Adj Close'] / eur\n",
    "\n",
    "CELG_ = pd.DataFrame()\n",
    "CELG_['TOT'] = CELG['tot_worth'].resample('W').max()\n",
    "\n",
    "\n",
    "trace_13 = go.Scatter(\n",
    "    x=CELG_.index,\n",
    "    y=CELG_['TOT'],\n",
    "    name = \"CELG\",\n",
    "    line = dict(color = 'darkgreen'),\n",
    "    opacity = 0.8)\n",
    "\n",
    "\n",
    "data = [trace_13]\n",
    "fig = dict(data=data)\n",
    "iplot(fig)"
   ]
  },
  {
   "cell_type": "markdown",
   "metadata": {},
   "source": [
    "# WFC venduto \"2019-02-05\""
   ]
  },
  {
   "cell_type": "code",
   "execution_count": null,
   "metadata": {},
   "outputs": [],
   "source": [
    "WFC_1 = pdr.get_data_yahoo(\"WFC\", start=\"2014-03-19\", end=\"2019-02-05\")\n",
    "eur = pdr.get_data_yahoo('EURUSD=X',start=\"2014-03-19\", end=\"2019-02-05\")['Adj Close']\n",
    "\n",
    "WFC_1['num'] = 17\n",
    "WFC_1['tot_worth'] = WFC_1['num'] * WFC_1['Adj Close'] / eur"
   ]
  },
  {
   "cell_type": "code",
   "execution_count": null,
   "metadata": {},
   "outputs": [],
   "source": [
    "WFC_2 = pdr.get_data_yahoo(\"WFC\", start=\"2015-08-27\", end=\"2019-02-05\")\n",
    "eur = pdr.get_data_yahoo('EURUSD=X',start=\"2015-08-27\", end=\"2019-02-05\")['Adj Close']\n",
    "\n",
    "WFC_2['num'] = 2\n",
    "WFC_2['tot_worth'] = WFC_2['num'] * WFC_2['Adj Close']/ eur\n",
    "\n",
    "\n",
    " # unisco i due parziali attenzione perche le colonne sommate darebbero un nan \n",
    "WFC_parz = pd.concat([WFC_1['tot_worth'],WFC_2['tot_worth']], ignore_index=True, axis=1) \n",
    "WFC = WFC_parz.fillna(0)[0]+WFC_parz.fillna(0)[1] #colonna totale di FCA\n",
    "\n",
    "WFC_ = pd.DataFrame()\n",
    "WFC_['TOT'] = WFC.resample('W').max()\n",
    "\n",
    "trace_14 = go.Scatter(\n",
    "    x=WFC_.index,\n",
    "    y=WFC_['TOT'],\n",
    "    name = \"WFC\",\n",
    "    line = dict(color = 'indigo'),\n",
    "    opacity = 0.8)\n",
    "\n",
    "\n",
    "data = [trace_14]\n",
    "fig = dict(data=data)\n",
    "iplot(fig)"
   ]
  },
  {
   "cell_type": "markdown",
   "metadata": {},
   "source": [
    "# AAPL"
   ]
  },
  {
   "cell_type": "code",
   "execution_count": null,
   "metadata": {},
   "outputs": [],
   "source": [
    "AAPL_1 = pdr.get_data_yahoo(\"AAPL\", start=\"2009-11-10\", end=end_imp)\n",
    "eur = pdr.get_data_yahoo('EURUSD=X',start=\"2009-11-10\", end=end_imp)['Adj Close']\n",
    "\n",
    "AAPL_1['num'] = 56\n",
    "AAPL_1['tot_worth'] = AAPL_1['num'] * AAPL_1['Adj Close']/eur\n",
    "\n",
    "\n"
   ]
  },
  {
   "cell_type": "code",
   "execution_count": null,
   "metadata": {},
   "outputs": [],
   "source": [
    "AAPL_2 = pdr.get_data_yahoo(\"AAPL\", start=\"2018-07-10\", end=end_imp)\n",
    "eur = pdr.get_data_yahoo('EURUSD=X',start=\"2018-07-10\", end=end_imp)['Adj Close']\n",
    "AAPL_2['num'] = 16\n",
    "AAPL_2['tot_worth'] = AAPL_2['num'] * AAPL_2['Adj Close']/eur\n",
    "\n",
    " # unisco i due parziali attenzione perche le colonne sommate darebbero un nan \n",
    "AAPL_parz = pd.concat([AAPL_1['tot_worth'],AAPL_2['tot_worth']], ignore_index=True, axis=1) \n",
    "AAPL = AAPL_parz.fillna(0)[0]+AAPL_parz.fillna(0)[1] #colonna totale di FCA\n",
    "\n",
    "AAPL_ = pd.DataFrame()\n",
    "AAPL_['TOT'] = AAPL.resample('W').max()\n",
    "\n",
    "\n",
    "trace_15 = go.Scatter(\n",
    "    x=AAPL_.index,\n",
    "    y=AAPL_['TOT'],\n",
    "    name = \"AAPL\",\n",
    "    line = dict(color = 'lime'),\n",
    "    opacity = 0.8)\n",
    "\n",
    "\n",
    "data = [trace_15]\n",
    "fig = dict(data=data)\n",
    "iplot(fig)"
   ]
  },
  {
   "cell_type": "code",
   "execution_count": null,
   "metadata": {},
   "outputs": [],
   "source": []
  },
  {
   "cell_type": "markdown",
   "metadata": {},
   "source": [
    "# NFLX"
   ]
  },
  {
   "cell_type": "code",
   "execution_count": null,
   "metadata": {},
   "outputs": [],
   "source": [
    "NFLX_1 = pdr.get_data_yahoo(\"NFLX\", start=\"2015-07-29\", end=end_imp)\n",
    "eur = pdr.get_data_yahoo('EURUSD=X',start=\"2015-07-29\", end=end_imp)['Adj Close']\n",
    "\n",
    "NFLX_1['num'] = 10\n",
    "NFLX_1['tot_worth'] = NFLX_1['num'] * NFLX_1['Adj Close'] / eur"
   ]
  },
  {
   "cell_type": "code",
   "execution_count": null,
   "metadata": {},
   "outputs": [],
   "source": [
    "NFLX_2 = pdr.get_data_yahoo(\"NFLX\", start=\"2018-07-10\", end=end_imp)\n",
    "eur = pdr.get_data_yahoo('EURUSD=X',start=\"2018-07-10\", end=end_imp)['Adj Close']\n",
    "\n",
    "NFLX_2['num'] = 1\n",
    "NFLX_2['tot_worth'] = NFLX_2['num'] * NFLX_2['Adj Close'] / eur\n",
    "\n",
    " # unisco i due parziali attenzione perche le colonne sommate darebbero un nan \n",
    "NFLX_parz = pd.concat([NFLX_1['tot_worth'],NFLX_2['tot_worth']], ignore_index=True, axis=1) \n",
    "NFLX = NFLX_parz.fillna(0)[0]+NFLX_parz.fillna(0)[1]  #colonna totale di FCA\n",
    "\n",
    "\n",
    "NFLX_ = pd.DataFrame()\n",
    "NFLX_['TOT'] = NFLX.resample('W').max()\n",
    "\n",
    "trace_16 = go.Scatter(\n",
    "    x=NFLX_.index,\n",
    "    y=NFLX_['TOT'] ,\n",
    "    name = \"NFLX\",\n",
    "    line = dict(color = 'maroon'),\n",
    "    opacity = 0.8)\n",
    "\n",
    "\n",
    "data = [trace_16]\n",
    "fig = dict(data=data)\n",
    "iplot(fig)"
   ]
  },
  {
   "cell_type": "code",
   "execution_count": null,
   "metadata": {},
   "outputs": [],
   "source": []
  },
  {
   "cell_type": "markdown",
   "metadata": {},
   "source": [
    "# AMZN"
   ]
  },
  {
   "cell_type": "code",
   "execution_count": null,
   "metadata": {},
   "outputs": [],
   "source": [
    "AMZN = pdr.get_data_yahoo(\"AMZN\", start=\"2011-06-28\", end=end_imp)\n",
    "eur = pdr.get_data_yahoo('EURUSD=X',start=\"2011-06-28\", end=end_imp)['Adj Close']\n",
    "\n",
    "AMZN['num'] = 7\n",
    "AMZN['tot_worth'] = AMZN['num'] * AMZN['Adj Close']/eur\n",
    "\n",
    "AMZN_ = pd.DataFrame()\n",
    "AMZN_['TOT'] = AMZN['tot_worth'].resample('W').max()\n",
    "\n",
    "trace_17 = go.Scatter(\n",
    "    x=AMZN_.index,\n",
    "    y=AMZN_['TOT'],\n",
    "    name = \"AMZN\",\n",
    "    line = dict(color = 'olive'),\n",
    "    opacity = 0.8)\n",
    "\n",
    "\n",
    "data = [trace_17]\n",
    "fig = dict(data=data)\n",
    "iplot(fig)"
   ]
  },
  {
   "cell_type": "markdown",
   "metadata": {},
   "source": [
    "# Lyxor Nasdaq-100 "
   ]
  },
  {
   "cell_type": "code",
   "execution_count": null,
   "metadata": {},
   "outputs": [],
   "source": [
    "UST = pdr.get_data_yahoo(\"UST.MI\", start=\"2018-08-09\", end=end_imp)\n",
    "\n",
    "\n",
    "UST['num'] = 423\n",
    "UST['tot_worth'] = UST['num'] * UST['Adj Close']\n",
    "\n",
    "UST_ = pd.DataFrame()\n",
    "UST_['TOT'] = UST['tot_worth'].resample('W').max()\n",
    "\n",
    "trace_19 = go.Scatter(\n",
    "    x=UST_.index,\n",
    "    y=UST_['TOT'],\n",
    "    name = \"UST\",\n",
    "    line = dict(color = 'olive'),\n",
    "    opacity = 0.8)\n",
    "\n",
    "\n",
    "data = [trace_19]\n",
    "fig = dict(data=data)\n",
    "iplot(fig)"
   ]
  },
  {
   "cell_type": "markdown",
   "metadata": {},
   "source": [
    "# TSLA"
   ]
  },
  {
   "cell_type": "code",
   "execution_count": null,
   "metadata": {},
   "outputs": [],
   "source": [
    "\"\"\"VENDUTA \n",
    "TSLA = pdr.get_data_yahoo(\"TSLA\", start=\"2015-04-30\", end=end_imp)\n",
    "eur = pdr.get_data_yahoo('EURUSD=X',start=\"2015-04-30\", end=end_imp)['Adj Close']\n",
    "\n",
    "TSLA['num'] = 4\n",
    "TSLA['tot_worth'] = TSLA['num'] * TSLA['Adj Close']/eur\n",
    "\n",
    "\n",
    "TSLA_ = pd.DataFrame()\n",
    "TSLA_['TOT'] = TSLA['tot_worth'].resample('W').max()\n",
    "\n",
    "\n",
    "trace_18 = go.Scatter(\n",
    "    x=TSLA_.index,\n",
    "    y=TSLA_['TOT'],\n",
    "    name = \"TSLA\",\n",
    "    line = dict(color = '#17BECF'),\n",
    "    opacity = 0.8)\n",
    "\n",
    "\n",
    "data = [trace_18]\n",
    "fig = dict(data=data)\n",
    "iplot(fig)\"\"\""
   ]
  },
  {
   "cell_type": "markdown",
   "metadata": {},
   "source": [
    "# Brystol Mayers"
   ]
  },
  {
   "cell_type": "code",
   "execution_count": null,
   "metadata": {},
   "outputs": [],
   "source": [
    "BMY = pdr.get_data_yahoo(\"BMY\", start=\"2020-01-01\", end=end_imp)\n",
    "eur = pdr.get_data_yahoo('EURUSD=X',start=\"2020-01-01\", end=end_imp)['Adj Close']\n",
    "\n",
    "BMY['num'] = 16\n",
    "BMY['tot_worth'] = BMY['num'] * BMY['Adj Close']/eur\n",
    "\n",
    "BMY_ = pd.DataFrame()\n",
    "BMY_['TOT'] = BMY['tot_worth'].resample('W').max()\n",
    "\n",
    "trace_20 = go.Scatter(\n",
    "    x=BMY_.index,\n",
    "    y=BMY_['TOT'],\n",
    "    name = \"BMY\",\n",
    "    line = dict(color = 'teal'),\n",
    "    opacity = 0.8)\n",
    "\n",
    "\n",
    "data = [trace_20]\n",
    "fig = dict(data=data)\n",
    "iplot(fig)"
   ]
  },
  {
   "cell_type": "markdown",
   "metadata": {},
   "source": [
    "# Nestlè"
   ]
  },
  {
   "cell_type": "code",
   "execution_count": null,
   "metadata": {},
   "outputs": [],
   "source": [
    "NESN = pdr.get_data_yahoo(\"NESN.SW\", start=\"2019-05-21\", end=end_imp)\n",
    "chf = pdr.get_data_yahoo('EURCHF=X',start=\"2019-05-21\", end=end_imp)['Adj Close']\n",
    "\n",
    "NESN['num'] = 20\n",
    "NESN['tot_worth'] = NESN['num'] * NESN['Adj Close']/chf\n",
    "\n",
    "NESN_ = pd.DataFrame()\n",
    "NESN_['TOT'] = NESN['tot_worth'].resample('W').max()\n",
    "\n",
    "trace_21 = go.Scatter(\n",
    "    x=NESN_.index,\n",
    "    y=NESN_['TOT'],\n",
    "    name = \"NESN.SW\",\n",
    "    line = dict(color = 'teal'),\n",
    "    opacity = 0.8)\n",
    "\n",
    "\n",
    "data = [trace_21]\n",
    "fig = dict(data=data)\n",
    "iplot(fig)"
   ]
  },
  {
   "cell_type": "markdown",
   "metadata": {},
   "source": [
    "# ZOOM"
   ]
  },
  {
   "cell_type": "code",
   "execution_count": null,
   "metadata": {},
   "outputs": [],
   "source": [
    "ZM = pdr.get_data_yahoo(\"ZM\", start=\"2020-02-01\", end=end_imp)\n",
    "eur = pdr.get_data_yahoo('EURUSD=X',start=\"2020-02-01\", end=end_imp)['Adj Close']\n",
    "\n",
    "ZM['num'] = 7\n",
    "ZM['tot_worth'] = ZM['num'] * ZM['Adj Close']/eur\n",
    "\n",
    "ZM_ = pd.DataFrame()\n",
    "ZM_['TOT'] = ZM['tot_worth'].resample('W').max()\n",
    "\n",
    "trace_22 = go.Scatter(\n",
    "    x=ZM_.index,\n",
    "    y=ZM_['TOT'],\n",
    "    name = \"ZM\",\n",
    "    line = dict(color = 'teal'),\n",
    "    opacity = 0.8)\n",
    "\n",
    "\n",
    "data = [trace_22]\n",
    "fig = dict(data=data)\n",
    "iplot(fig)"
   ]
  },
  {
   "cell_type": "markdown",
   "metadata": {},
   "source": [
    "# Intesa San Paolo"
   ]
  },
  {
   "cell_type": "code",
   "execution_count": null,
   "metadata": {},
   "outputs": [],
   "source": [
    "ISP = pdr.get_data_yahoo(\"ISP.MI\", start=\"2020-01-13\", end=end_imp)\n",
    "\n",
    "ISP['num'] = 142\n",
    "ISP['tot_worth'] = ISP['num'] * ISP['Adj Close']\n",
    "\n",
    "ISP_ = pd.DataFrame()\n",
    "ISP_['TOT'] = ISP['tot_worth'].resample('W').max()\n",
    "\n",
    "trace_23 = go.Scatter(\n",
    "    x=ISP_.index,\n",
    "    y=ISP_['TOT'],\n",
    "    name = \"ISP\",\n",
    "    line = dict(color = 'teal'),\n",
    "    opacity = 0.8)\n",
    "\n",
    "\n",
    "data = [trace_23]\n",
    "fig = dict(data=data)\n",
    "iplot(fig)"
   ]
  },
  {
   "cell_type": "markdown",
   "metadata": {},
   "source": [
    "# MERK"
   ]
  },
  {
   "cell_type": "code",
   "execution_count": null,
   "metadata": {},
   "outputs": [],
   "source": [
    "MRK = pdr.get_data_yahoo(\"MRK\", start=\"2019-04-09\", end=end_imp)\n",
    "eur = pdr.get_data_yahoo('EURUSD=X',start=\"2019-04-09\", end=end_imp)['Adj Close']\n",
    "\n",
    "MRK['num'] = 21\n",
    "MRK['tot_worth'] = MRK['num'] * MRK['Adj Close']/eur\n",
    "\n",
    "MRK_ = pd.DataFrame()\n",
    "MRK_['TOT'] = MRK['tot_worth'].resample('W').max()\n",
    "\n",
    "trace_24 = go.Scatter(\n",
    "    x=MRK_.index,\n",
    "    y=MRK_['TOT'],\n",
    "    name = \"MRK\",\n",
    "    line = dict(color = 'teal'),\n",
    "    opacity = 0.8)\n",
    "\n",
    "\n",
    "data = [trace_24]\n",
    "fig = dict(data=data)\n",
    "iplot(fig)"
   ]
  },
  {
   "cell_type": "markdown",
   "metadata": {},
   "source": [
    "# Microsoft"
   ]
  },
  {
   "cell_type": "code",
   "execution_count": null,
   "metadata": {},
   "outputs": [],
   "source": [
    "MSFT = pdr.get_data_yahoo(\"MSFT\", start=\"2018-09-10\", end=end_imp)\n",
    "eur = pdr.get_data_yahoo('EURUSD=X',start=\"2018-09-10\", end=end_imp)['Adj Close']\n",
    "\n",
    "MSFT['num'] = 9\n",
    "MSFT['tot_worth'] = MSFT['num'] * MSFT['Adj Close']/eur\n",
    "\n",
    "MSFT_ = pd.DataFrame()\n",
    "MSFT_['TOT'] = MSFT['tot_worth'].resample('W').max()\n",
    "\n",
    "trace_25 = go.Scatter(\n",
    "    x=MSFT_.index,\n",
    "    y=MSFT_['TOT'],\n",
    "    name = \"MSFT\",\n",
    "    line = dict(color = 'teal'),\n",
    "    opacity = 0.8)\n",
    "\n",
    "\n",
    "data = [trace_25]\n",
    "fig = dict(data=data)\n",
    "iplot(fig)"
   ]
  },
  {
   "cell_type": "markdown",
   "metadata": {},
   "source": [
    "# NEXI"
   ]
  },
  {
   "cell_type": "code",
   "execution_count": null,
   "metadata": {},
   "outputs": [],
   "source": [
    "NEXI = pdr.get_data_yahoo(\"NEXI.MI\", start=\"2019-04-16\", end=end_imp)\n",
    "eur = pdr.get_data_yahoo('EURUSD=X',start=\"2018-09-10\", end=end_imp)['Adj Close']\n",
    "\n",
    "NEXI['num'] = 143\n",
    "NEXI['tot_worth'] = NEXI['num'] * NEXI['Adj Close']\n",
    "\n",
    "NEXI_ = pd.DataFrame()\n",
    "NEXI_['TOT'] = NEXI['tot_worth'].resample('W').max()\n",
    "\n",
    "trace_26 = go.Scatter(\n",
    "    x=NEXI_.index,\n",
    "    y=NEXI_['TOT'],\n",
    "    name = \"NEXI\",\n",
    "    line = dict(color = 'teal'),\n",
    "    opacity = 0.8)\n",
    "\n",
    "\n",
    "data = [trace_26]\n",
    "fig = dict(data=data)\n",
    "iplot(fig)"
   ]
  },
  {
   "cell_type": "markdown",
   "metadata": {},
   "source": [
    "# AMGEN"
   ]
  },
  {
   "cell_type": "code",
   "execution_count": null,
   "metadata": {},
   "outputs": [],
   "source": [
    "AMGEN = pdr.get_data_yahoo(\"AMGN\", start=\"2020-08-26\", end=end_imp)\n",
    "eur = pdr.get_data_yahoo('EURUSD=X',start=\"2018-09-10\", end=end_imp)['Adj Close']\n",
    "\n",
    "AMGEN['num'] = 1\n",
    "AMGEN['tot_worth'] = AMGEN['num'] * AMGEN['Adj Close']/eur\n",
    "\n",
    "AMGEN_ = pd.DataFrame()\n",
    "AMGEN_['TOT'] = AMGEN['tot_worth'].resample('W').max()\n",
    "\n",
    "trace_27 = go.Scatter(\n",
    "    x=AMGEN_.index,\n",
    "    y=AMGEN_['TOT'],\n",
    "    name = \"AMGEN\",\n",
    "    line = dict(color = 'teal'),\n",
    "    opacity = 0.8)\n",
    "\n",
    "\n",
    "data = [trace_27]\n",
    "fig = dict(data=data)\n",
    "iplot(fig)"
   ]
  },
  {
   "cell_type": "markdown",
   "metadata": {},
   "source": [
    "# Pinterest"
   ]
  },
  {
   "cell_type": "code",
   "execution_count": null,
   "metadata": {},
   "outputs": [],
   "source": [
    "PINTEREST = pdr.get_data_yahoo(\"PINS\", start=\"2020-10-02\", end=end_imp)\n",
    "eur = pdr.get_data_yahoo('EURUSD=X',start=\"2018-09-10\", end=end_imp)['Adj Close']\n",
    "\n",
    "PINTEREST['num'] = 10\n",
    "PINTEREST['tot_worth'] = PINTEREST['num'] * PINTEREST['Adj Close']/eur\n",
    "\n",
    "PINTEREST_ = pd.DataFrame()\n",
    "PINTEREST_['TOT'] = PINTEREST['tot_worth'].resample('W').max()\n",
    "\n",
    "trace_28 = go.Scatter(\n",
    "    x=PINTEREST_.index,\n",
    "    y=PINTEREST_['TOT'],\n",
    "    name = \"PINTEREST\",\n",
    "    line = dict(color = 'teal'),\n",
    "    opacity = 0.8)\n",
    "\n",
    "\n",
    "data = [trace_28]\n",
    "fig = dict(data=data)\n",
    "iplot(fig)"
   ]
  },
  {
   "cell_type": "markdown",
   "metadata": {},
   "source": [
    "# Fivver"
   ]
  },
  {
   "cell_type": "code",
   "execution_count": null,
   "metadata": {},
   "outputs": [],
   "source": [
    "FIVERR = pdr.get_data_yahoo(\"FVRR\", start=\"2020-11-29\", end=end_imp)\n",
    "eur = pdr.get_data_yahoo('EURUSD=X',start=\"2018-09-10\", end=end_imp)['Adj Close']\n",
    "\n",
    "FIVERR['num'] = 3\n",
    "FIVERR['tot_worth'] = FIVERR['num'] * FIVERR['Adj Close']/eur\n",
    "\n",
    "FIVERR_ = pd.DataFrame()\n",
    "FIVERR_['TOT'] = FIVERR['tot_worth'].resample('W').max()\n",
    "\n",
    "trace_29 = go.Scatter(\n",
    "    x=FIVERR_.index,\n",
    "    y=FIVERR_['TOT'],\n",
    "    name = \"FIVERR\",\n",
    "    line = dict(color = 'teal'),\n",
    "    opacity = 0.8)\n",
    "\n",
    "\n",
    "data = [trace_29]\n",
    "fig = dict(data=data)\n",
    "iplot(fig)"
   ]
  },
  {
   "cell_type": "markdown",
   "metadata": {},
   "source": [
    "# PALANTIR"
   ]
  },
  {
   "cell_type": "code",
   "execution_count": null,
   "metadata": {},
   "outputs": [],
   "source": [
    "PALANTIR = pdr.get_data_yahoo(\"PLTR\", start=\"2021-01-26\", end=end_imp)\n",
    "eur = pdr.get_data_yahoo('EURUSD=X',start=\"2018-09-10\", end=end_imp)['Adj Close']\n",
    "\n",
    "PALANTIR['num'] = 35\n",
    "PALANTIR['tot_worth'] = PALANTIR['num'] * PALANTIR['Adj Close']/eur\n",
    "\n",
    "PALANTIR_ = pd.DataFrame()\n",
    "PALANTIR_['TOT'] = PALANTIR['tot_worth'].resample('W').max()\n",
    "\n",
    "trace_30 = go.Scatter(\n",
    "    x=PALANTIR_.index,\n",
    "    y=PALANTIR_['TOT'],\n",
    "    name = \"PALANTIR\",\n",
    "    line = dict(color = 'teal'),\n",
    "    opacity = 0.8)\n",
    "\n",
    "\n",
    "data = [trace_30]\n",
    "fig = dict(data=data)\n",
    "iplot(fig)"
   ]
  },
  {
   "cell_type": "markdown",
   "metadata": {},
   "source": [
    "# NIO"
   ]
  },
  {
   "cell_type": "code",
   "execution_count": null,
   "metadata": {},
   "outputs": [],
   "source": [
    "NIO = pdr.get_data_yahoo(\"NIO\", start=\"2020-07-29\", end=end_imp)\n",
    "eur = pdr.get_data_yahoo('EURUSD=X',start=\"2018-09-10\", end=end_imp)['Adj Close']\n",
    "\n",
    "NIO['num'] = 50\n",
    "NIO['tot_worth'] = NIO['num'] * NIO['Adj Close']/eur\n",
    "\n",
    "NIO_ = pd.DataFrame()\n",
    "NIO_['TOT'] = NIO['tot_worth'].resample('W').max()\n",
    "\n",
    "trace_30 = go.Scatter(\n",
    "    x=NIO_.index,\n",
    "    y=NIO_['TOT'],\n",
    "    name = \"NIO\",\n",
    "    line = dict(color = 'teal'),\n",
    "    opacity = 0.8)\n",
    "\n",
    "\n",
    "data = [trace_30]\n",
    "fig = dict(data=data)\n",
    "iplot(fig)"
   ]
  },
  {
   "cell_type": "markdown",
   "metadata": {},
   "source": [
    "# TRADE DESK"
   ]
  },
  {
   "cell_type": "code",
   "execution_count": null,
   "metadata": {},
   "outputs": [],
   "source": [
    "TTD = pdr.get_data_yahoo(\"TTD\", start=\"2021-07-27\", end=end_imp)\n",
    "eur = pdr.get_data_yahoo('EURUSD=X',start=\"2018-09-10\", end=end_imp)['Adj Close']\n",
    "\n",
    "TTD['num'] = 10\n",
    "TTD['tot_worth'] = TTD['num'] * TTD['Adj Close']/eur\n",
    "\n",
    "TTD_ = pd.DataFrame()\n",
    "TTD_['TOT'] = TTD['tot_worth'].resample('W').max()\n",
    "\n",
    "trace_30 = go.Scatter(\n",
    "    x=TTD_.index,\n",
    "    y=TTD_['TOT'],\n",
    "    name = \"TTD\",\n",
    "    line = dict(color = 'teal'),\n",
    "    opacity = 0.8)\n",
    "\n",
    "\n",
    "data = [trace_30]\n",
    "fig = dict(data=data)\n",
    "iplot(fig)"
   ]
  },
  {
   "cell_type": "markdown",
   "metadata": {},
   "source": [
    "# SNOWFLAKE"
   ]
  },
  {
   "cell_type": "code",
   "execution_count": null,
   "metadata": {},
   "outputs": [],
   "source": [
    "SNOW = pdr.get_data_yahoo(\"NIO\", start=\"2021-09-03\", end=end_imp)\n",
    "eur = pdr.get_data_yahoo('EURUSD=X',start=\"2018-09-10\", end=end_imp)['Adj Close']\n",
    "\n",
    "SNOW['num'] = 40\n",
    "SNOW['tot_worth'] = SNOW['num'] * SNOW['Adj Close']/eur\n",
    "\n",
    "SNOW_ = pd.DataFrame()\n",
    "SNOW_['TOT'] = SNOW['tot_worth'].resample('W').max()\n",
    "\n",
    "trace_30 = go.Scatter(\n",
    "    x=SNOW_.index,\n",
    "    y=SNOW_['TOT'],\n",
    "    name = \"SNOW\",\n",
    "    line = dict(color = 'teal'),\n",
    "    opacity = 0.8)\n",
    "\n",
    "\n",
    "data = [trace_30]\n",
    "fig = dict(data=data)\n",
    "iplot(fig)"
   ]
  },
  {
   "cell_type": "code",
   "execution_count": null,
   "metadata": {},
   "outputs": [],
   "source": []
  },
  {
   "cell_type": "markdown",
   "metadata": {},
   "source": [
    "# Inserico le azioni che sono state vendute"
   ]
  },
  {
   "cell_type": "code",
   "execution_count": null,
   "metadata": {},
   "outputs": [],
   "source": [
    "#YOOX = pdr.get_data_yahoo(\"YNAP.MI\", start=\"2011-06-28\", end=\"2018-05-01\")\n",
    "#YOOX['num'] = 94\n",
    "#YOOX['tot_worth'] = YOOX['num'] * YOOX['Adj Close']\n",
    "\n",
    "\n",
    "TSLA = pdr.get_data_yahoo(\"TSLA\", start=\"2015-04-30\", end='2018-08-16')\n",
    "eur = pdr.get_data_yahoo('EURUSD=X',start=\"2015-04-30\", end=end_imp)['Adj Close']\n",
    "TSLA['num'] = 4\n",
    "TSLA['tot_worth'] = TSLA['num'] * TSLA['Adj Close']/eur\n",
    "\n",
    "\n",
    "BSS = pdr.get_data_yahoo(\"BSS.MI\", start=\"2017-09-26\", end=\"2018-08-21\")\n",
    "BSS['num'] = 12\n",
    "BSS['tot_worth'] = BSS['num'] * BSS['Adj Close']\n",
    "\n"
   ]
  },
  {
   "cell_type": "code",
   "execution_count": null,
   "metadata": {},
   "outputs": [],
   "source": []
  },
  {
   "cell_type": "code",
   "execution_count": null,
   "metadata": {},
   "outputs": [],
   "source": []
  },
  {
   "cell_type": "code",
   "execution_count": null,
   "metadata": {},
   "outputs": [],
   "source": []
  },
  {
   "cell_type": "code",
   "execution_count": null,
   "metadata": {},
   "outputs": [],
   "source": [
    "TOT_parz = pd.concat([FCA['tot_worth'],\n",
    "                      FCA_2['tot_worth'],\n",
    "                      V['tot_worth'] ,\n",
    "                      IMA['tot_worth'],\n",
    "                      BSS['tot_worth'],\n",
    "                     NVDA['tot_worth'],\n",
    "                     BRKB['tot_worth'],\n",
    "                      FB['tot_worth'],\n",
    "                      BMPS['tot_worth'],\n",
    "                      BLT_1['tot_worth'],\n",
    "                     BLT_2['tot_worth'],\n",
    "                     TRN_1['tot_worth'],\n",
    "                      TRN_2['tot_worth'],\n",
    "                      TRN_3['tot_worth'],\n",
    "                      TRN_4['tot_worth'],\n",
    "                      BRE_1['tot_worth'],\n",
    "                      BRE_2['tot_worth'],\n",
    "                      PYPL['tot_worth'],\n",
    "                      CELG['tot_worth'],\n",
    "                      WFC_1['tot_worth'],\n",
    "                      WFC_2['tot_worth'],\n",
    "                      AAPL_1['tot_worth'],\n",
    "                      AAPL_2['tot_worth'],\n",
    "                      NFLX_1['tot_worth'],\n",
    "                      NFLX_2['tot_worth'],\n",
    "                      AMZN['tot_worth'],\n",
    "                      UST['tot_worth'],\n",
    "                      TSLA['tot_worth'],\n",
    "                      BMY['tot_worth'],\n",
    "                      NESN['tot_worth'],\n",
    "                      ZM['tot_worth'],\n",
    "                      ISP['tot_worth'],\n",
    "                      MRK['tot_worth'],\n",
    "                      MSFT['tot_worth'],\n",
    "                      NEXI['tot_worth'],\n",
    "                      AMGEN['tot_worth'],\n",
    "                      PINTEREST['tot_worth'],\n",
    "                      FIVERR['tot_worth'],\n",
    "                      PALANTIR['tot_worth'],\n",
    "                      NIO['tot_worth'],\n",
    "                      SNOW['tot_worth'],\n",
    "                      TTD['tot_worth']\n",
    "                     ], ignore_index=True, axis=1) \n",
    "#TOT=[]\n",
    "#for x in range(0,26):\n",
    "#    TOT += TOT_parz.fillna(0)[x]\n",
    "TOT = -TOT_parz.fillna(0)[0]-TOT_parz.fillna(0)[1] + TOT_parz.fillna(0)[2]-TOT_parz.fillna(0)[3]-TOT_parz.fillna(0)[4]-TOT_parz.fillna(0)[5] + TOT_parz.fillna(0)[6]-TOT_parz.fillna(0)[7]+TOT_parz.fillna(0)[8]-TOT_parz.fillna(0)[9]-TOT_parz.fillna(0)[10]+TOT_parz.fillna(0)[11]+TOT_parz.fillna(0)[12]+TOT_parz.fillna(0)[13]+TOT_parz.fillna(0)[14]+TOT_parz.fillna(0)[15]+TOT_parz.fillna(0)[16]+TOT_parz.fillna(0)[17]-TOT_parz.fillna(0)[18]-TOT_parz.fillna(0)[19]-TOT_parz.fillna(0)[20]+TOT_parz.fillna(0)[21] +TOT_parz.fillna(0)[22] +TOT_parz.fillna(0)[23] +TOT_parz.fillna(0)[24] +TOT_parz.fillna(0)[25] + TOT_parz.fillna(0)[26] - TOT_parz.fillna(0)[27] + TOT_parz.fillna(0)[28] + TOT_parz.fillna(0)[29] + TOT_parz.fillna(0)[30] +TOT_parz.fillna(0)[31] + TOT_parz.fillna(0)[32] + TOT_parz.fillna(0)[33] + TOT_parz.fillna(0)[34]+ TOT_parz.fillna(0)[35] + TOT_parz.fillna(0)[36] + TOT_parz.fillna(0)[37] + TOT_parz.fillna(0)[38] + TOT_parz.fillna(0)[39]  \n",
    "weekly_summary = pd.DataFrame()\n",
    "weekly_summary['TOT'] = TOT.resample('W').max()\n",
    "\n"
   ]
  },
  {
   "cell_type": "code",
   "execution_count": null,
   "metadata": {},
   "outputs": [],
   "source": []
  },
  {
   "cell_type": "code",
   "execution_count": null,
   "metadata": {
    "scrolled": true
   },
   "outputs": [],
   "source": [
    "TOT"
   ]
  },
  {
   "cell_type": "code",
   "execution_count": null,
   "metadata": {},
   "outputs": [],
   "source": [
    "weekly_summary.info(verbose=True)"
   ]
  },
  {
   "cell_type": "markdown",
   "metadata": {},
   "source": [
    "# GRAFICO RAFFRONTO PORTAFOGLIO VS INDICE NASDAQ"
   ]
  },
  {
   "cell_type": "code",
   "execution_count": null,
   "metadata": {},
   "outputs": [],
   "source": [
    "\n",
    "NASDAQ = pdr.get_data_yahoo(\"^IXIC\", start=start_imp, end=end_imp)\n",
    "\n",
    "start_data = '2020-11-05' #per aggiornare il periodo cambiare la data \n",
    "\n",
    "NASDAQ_sub = NASDAQ[start_data:end_imp]\n",
    "weekly_summary_sub = weekly_summary[start_data:end_imp]\n",
    "\n",
    "\n",
    "NASDAQ_ = (NASDAQ_sub['Adj Close']/NASDAQ_sub['Adj Close'].iloc[0])-1\n",
    "trace_30 = go.Scatter(\n",
    "    x=NASDAQ_.index,\n",
    "    y=NASDAQ_,\n",
    "    name = \"NASDAQ\",\n",
    "    line = dict(color = 'teal'),\n",
    "    opacity = 0.8)\n",
    "\n",
    "totale = go.Scatter( x=weekly_summary_sub.index, y=(weekly_summary_sub['TOT']/weekly_summary_sub['TOT'].iloc[0])-1,name = \"Totale_%\")\n",
    "\n",
    "\n",
    "data = [trace_30, totale]\n",
    "fig = dict(data=data)\n",
    "iplot(fig)\n",
    "\n",
    "\n"
   ]
  },
  {
   "cell_type": "code",
   "execution_count": null,
   "metadata": {},
   "outputs": [],
   "source": [
    "\n",
    "\n",
    "\n",
    "\n",
    "\n",
    "\n",
    "\n",
    "\n",
    "\n",
    "\n",
    "\n"
   ]
  },
  {
   "cell_type": "code",
   "execution_count": null,
   "metadata": {},
   "outputs": [],
   "source": [
    "from plotly import __version__\n",
    "from plotly.offline import download_plotlyjs, init_notebook_mode, plot, iplot\n",
    "\n",
    "print(__version__)\n",
    "data = [go.Scatter( x=weekly_summary.index, y=weekly_summary['TOT'] )]\n",
    "\n",
    "iplot(data)"
   ]
  },
  {
   "cell_type": "code",
   "execution_count": null,
   "metadata": {},
   "outputs": [],
   "source": []
  },
  {
   "cell_type": "code",
   "execution_count": null,
   "metadata": {},
   "outputs": [],
   "source": []
  },
  {
   "cell_type": "code",
   "execution_count": null,
   "metadata": {},
   "outputs": [],
   "source": [
    "\n",
    "\n",
    "\n",
    "\n",
    "trace_high = go.Scatter(\n",
    "    x=weekly_summary.index,\n",
    "    y=weekly_summary['TOT'],\n",
    "    name = \"TOT High\",\n",
    "    line = dict(color = '#17BECF'),\n",
    "    opacity = 0.8)\n",
    "\n",
    "\n",
    "\n",
    "data = [trace_high]\n",
    "\n",
    "layout = dict(\n",
    "    title='Time series with range slider and selectors',\n",
    "    xaxis=dict(\n",
    "        rangeselector=dict(\n",
    "            buttons=list([\n",
    "                dict(count=1,\n",
    "                     label='1m',\n",
    "                     step='month',\n",
    "                     stepmode='backward'),\n",
    "                dict(count=6,\n",
    "                     label='6m',\n",
    "                     step='month',\n",
    "                     stepmode='backward'),\n",
    "                dict(count=1,\n",
    "                    label='YTD',\n",
    "                    step='year',\n",
    "                    stepmode='todate'),\n",
    "                dict(count=1,\n",
    "                    label='1y',\n",
    "                    step='year',\n",
    "                    stepmode='backward'),\n",
    "                dict(step='all')\n",
    "            ])\n",
    "        ),\n",
    "        rangeslider=dict(),\n",
    "        type='date'\n",
    "    )\n",
    ")\n",
    "\n",
    "fig = dict(data=data, layout=layout)\n",
    "iplot(fig)"
   ]
  },
  {
   "cell_type": "code",
   "execution_count": null,
   "metadata": {},
   "outputs": [],
   "source": [
    "\n",
    "\n",
    "\n",
    "data = [trace_1,\n",
    "       trace_2,\n",
    "       trace_3,\n",
    "       trace_5,\n",
    "       trace_6,\n",
    "       trace_7,\n",
    "       trace_8,\n",
    "       trace_9,\n",
    "       trace_10,\n",
    "       trace_11,\n",
    "       trace_12,\n",
    "       trace_13,\n",
    "       trace_14,\n",
    "       trace_15,\n",
    "        trace_17,\n",
    "        trace_16,\n",
    "        trace_19\n",
    "        \n",
    "       ]\n",
    "fig = dict(data=data)\n",
    "iplot(fig)"
   ]
  },
  {
   "cell_type": "code",
   "execution_count": null,
   "metadata": {},
   "outputs": [],
   "source": []
  },
  {
   "cell_type": "code",
   "execution_count": null,
   "metadata": {},
   "outputs": [],
   "source": []
  },
  {
   "cell_type": "code",
   "execution_count": null,
   "metadata": {},
   "outputs": [],
   "source": []
  },
  {
   "cell_type": "code",
   "execution_count": null,
   "metadata": {},
   "outputs": [],
   "source": []
  },
  {
   "cell_type": "code",
   "execution_count": null,
   "metadata": {},
   "outputs": [],
   "source": []
  }
 ],
 "metadata": {
  "kernelspec": {
   "display_name": "Python 3 (ipykernel)",
   "language": "python",
   "name": "python3"
  },
  "language_info": {
   "codemirror_mode": {
    "name": "ipython",
    "version": 3
   },
   "file_extension": ".py",
   "mimetype": "text/x-python",
   "name": "python",
   "nbconvert_exporter": "python",
   "pygments_lexer": "ipython3",
   "version": "3.9.2+"
  }
 },
 "nbformat": 4,
 "nbformat_minor": 2
}
